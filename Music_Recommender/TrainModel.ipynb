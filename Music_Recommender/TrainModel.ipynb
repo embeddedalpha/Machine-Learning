{
 "cells": [
  {
   "cell_type": "code",
   "execution_count": 11,
   "metadata": {},
   "outputs": [],
   "source": [
    "# Import Packages \n",
    "\n",
    "import pandas as pd\n",
    "from sklearn.tree import DecisionTreeClassifier\n",
    "from sklearn.model_selection import train_test_split\n",
    "from sklearn.metrics import accuracy_score\n",
    "import joblib as jb\n",
    "from sklearn import tree"
   ]
  },
  {
   "cell_type": "code",
   "execution_count": 12,
   "metadata": {},
   "outputs": [],
   "source": [
    "# Read Data from CSV file \n",
    "music_data = pd.read_csv('music.csv')\n",
    "\n",
    "# Create Dataset \n",
    "InputDataSet = music_data.drop(columns=['genre'])\n",
    "# InputDataSet\n",
    "OutputDataSet = music_data['genre']\n",
    "# OutputDataSet\n",
    "\n",
    "IDS_train, IDS_test, ODS_train, ODS_test = train_test_split(InputDataSet,OutputDataSet,test_size=0.2)\n"
   ]
  },
  {
   "cell_type": "code",
   "execution_count": 13,
   "metadata": {},
   "outputs": [
    {
     "data": {
      "text/plain": [
       "DecisionTreeClassifier()"
      ]
     },
     "execution_count": 13,
     "metadata": {},
     "output_type": "execute_result"
    }
   ],
   "source": [
    "# Construct the model\n",
    "\n",
    "model = DecisionTreeClassifier()\n",
    "model.fit(IDS_train.values,ODS_train)"
   ]
  },
  {
   "cell_type": "code",
   "execution_count": 14,
   "metadata": {},
   "outputs": [],
   "source": [
    "# Run initial predicitons before exporting\n",
    "prediction = model.predict(IDS_test.values)\n",
    "score = accuracy_score(ODS_test,prediction) * 100\n",
    "# score"
   ]
  },
  {
   "cell_type": "code",
   "execution_count": 15,
   "metadata": {},
   "outputs": [
    {
     "data": {
      "text/plain": [
       "['music_recommender_model.joblib']"
      ]
     },
     "execution_count": 15,
     "metadata": {},
     "output_type": "execute_result"
    }
   ],
   "source": [
    "# Save Model\n",
    "\n",
    "jb.dump(model,'music_recommender_model.joblib')"
   ]
  },
  {
   "cell_type": "code",
   "execution_count": null,
   "metadata": {},
   "outputs": [],
   "source": [
    "# Visualize the Decision Tree\n",
    "tree.export_graphviz( model,\n",
    "                     out_file='music-recommender.dot',\n",
    "                     feature_names=['age','gender'],\n",
    "                     class_names= sorted(OutputDataSet.unique()),\n",
    "                     label='all',\n",
    "                     rounded=True,\n",
    "                     filled=True \n",
    "                     )"
   ]
  }
 ],
 "metadata": {
  "kernelspec": {
   "display_name": "Python 3",
   "language": "python",
   "name": "python3"
  },
  "language_info": {
   "codemirror_mode": {
    "name": "ipython",
    "version": 3
   },
   "file_extension": ".py",
   "mimetype": "text/x-python",
   "name": "python",
   "nbconvert_exporter": "python",
   "pygments_lexer": "ipython3",
   "version": "3.7.9"
  },
  "orig_nbformat": 4,
  "vscode": {
   "interpreter": {
    "hash": "fa5ef4f572a615d0a76fc0cb27ce543598915ddbaa467be9b97012edd630d40f"
   }
  }
 },
 "nbformat": 4,
 "nbformat_minor": 2
}
